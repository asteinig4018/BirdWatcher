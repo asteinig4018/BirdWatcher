{
  "nbformat": 4,
  "nbformat_minor": 0,
  "metadata": {
    "colab": {
      "name": "makeModel.ipynb",
      "provenance": [],
      "authorship_tag": "ABX9TyOaryxXVybpCncRkiktkdFj",
      "include_colab_link": true
    },
    "kernelspec": {
      "name": "python3",
      "display_name": "Python 3"
    },
    "language_info": {
      "name": "python"
    }
  },
  "cells": [
    {
      "cell_type": "markdown",
      "metadata": {
        "id": "view-in-github",
        "colab_type": "text"
      },
      "source": [
        "<a href=\"https://colab.research.google.com/github/asteinig4018/BirdWatcher/blob/master/makeModel.ipynb\" target=\"_parent\"><img src=\"https://colab.research.google.com/assets/colab-badge.svg\" alt=\"Open In Colab\"/></a>"
      ]
    },
    {
      "cell_type": "markdown",
      "source": [
        "# Make a Model\n",
        "The purpose of this notebook is to create a TFlite model for Raspberry Pi to detect birds (ideally in an image and not individually). I'll try to use the Caltech set. "
      ],
      "metadata": {
        "id": "nav6FeeZa8l5"
      }
    },
    {
      "cell_type": "code",
      "execution_count": null,
      "metadata": {
        "id": "sx8jm9jwZzU2"
      },
      "outputs": [],
      "source": [
        "#in progress: gather requirements\n",
        "import matplotlib.pyplot as plt\n",
        "import numpy as np\n",
        "import os\n",
        "import tensorflow as tf\n",
        "import PIL\n",
        "import PIL.Image\n",
        "from tensorflow.keras.preprocessing import image_dataset_from_directory\n",
        "import tensorflow_datasets as tfds"
      ]
    },
    {
      "cell_type": "code",
      "source": [
        "#idk check the version\n",
        "print(tf.__version__)"
      ],
      "metadata": {
        "id": "IHuJf9edcB2p"
      },
      "execution_count": null,
      "outputs": []
    },
    {
      "cell_type": "markdown",
      "source": [
        "# Build the Dataset"
      ],
      "metadata": {
        "id": "-BCQsbGlbnOs"
      }
    },
    {
      "cell_type": "markdown",
      "source": [
        "## Downloading the dataset:"
      ],
      "metadata": {
        "id": "9KFeFzYPbxvf"
      }
    },
    {
      "cell_type": "code",
      "source": [
        "bird_train_data = tfds.load('caltech_birds2011', split='train', shuffle_files=True)\n",
        "bird_test_data = tfds.load('caltech_birds2011', split='test', shuffle_files=False)"
      ],
      "metadata": {
        "id": "wQ0uIws4b1N5"
      },
      "execution_count": null,
      "outputs": []
    },
    {
      "cell_type": "code",
      "source": [
        "#physicall download\n",
        "!gdown https://drive.google.com/u/0/uc?id=1hbzc_P1FuxMkcabkgn9ZKinBwW683j45"
      ],
      "metadata": {
        "colab": {
          "base_uri": "https://localhost:8080/"
        },
        "id": "Fka4hYRQGYg9",
        "outputId": "b8d8de5b-06a9-4450-f6e5-cc2ea6184f75"
      },
      "execution_count": 13,
      "outputs": [
        {
          "output_type": "stream",
          "name": "stdout",
          "text": [
            "Traceback (most recent call last):\n",
            "  File \"/usr/local/bin/gdown\", line 8, in <module>\n",
            "    sys.exit(main())\n",
            "  File \"/usr/local/lib/python2.7/dist-packages/gdown/cli.py\", line 61, in main\n",
            "    quiet=args.quiet,\n",
            "  File \"/usr/local/lib/python2.7/dist-packages/gdown/download.py\", line 52, in download\n",
            "    res = sess.get(url, stream=True)\n",
            "  File \"/usr/local/lib/python2.7/dist-packages/requests/sessions.py\", line 543, in get\n",
            "    return self.request('GET', url, **kwargs)\n",
            "  File \"/usr/local/lib/python2.7/dist-packages/requests/sessions.py\", line 530, in request\n",
            "    resp = self.send(prep, **send_kwargs)\n",
            "  File \"/usr/local/lib/python2.7/dist-packages/requests/sessions.py\", line 643, in send\n",
            "    r = adapter.send(request, **kwargs)\n",
            "  File \"/usr/local/lib/python2.7/dist-packages/requests/adapters.py\", line 449, in send\n",
            "    timeout=timeout\n",
            "  File \"/usr/local/lib/python2.7/dist-packages/urllib3/connectionpool.py\", line 600, in urlopen\n",
            "    chunked=chunked)\n",
            "  File \"/usr/local/lib/python2.7/dist-packages/urllib3/connectionpool.py\", line 377, in _make_request\n",
            "    httplib_response = conn.getresponse(buffering=True)\n",
            "  File \"/usr/lib/python2.7/httplib.py\", line 1178, in getresponse\n",
            "    response.begin()\n",
            "  File \"/usr/lib/python2.7/httplib.py\", line 452, in begin\n",
            "    version, status, reason = self._read_status()\n",
            "  File \"/usr/lib/python2.7/httplib.py\", line 408, in _read_status\n",
            "    line = self.fp.readline(_MAXLINE + 1)\n",
            "  File \"/usr/lib/python2.7/socket.py\", line 480, in readline\n",
            "    data = self._sock.recv(self._rbufsize)\n",
            "  File \"/usr/lib/python2.7/ssl.py\", line 754, in recv\n",
            "    return self.read(buflen)\n",
            "  File \"/usr/lib/python2.7/ssl.py\", line 641, in read\n",
            "    v = self._sslobj.read(len)\n",
            "KeyboardInterrupt\n"
          ]
        }
      ]
    },
    {
      "cell_type": "code",
      "source": [
        "!tar -xzf /content/CUB_200_2011.tgz"
      ],
      "metadata": {
        "id": "QKct65ZPJasb"
      },
      "execution_count": 12,
      "outputs": []
    },
    {
      "cell_type": "code",
      "source": [
        "#use a class to track data so we can create yolo specific data structures\n",
        "class Yolo_Image:\n",
        "\n",
        "  def __init__(self, filename):\n",
        "    self.bb = list()\n",
        "    self.classname = \"\"\n",
        "    self.filename = filename\n",
        "    print(self.filename)\n",
        "\n",
        "  def add_bb(self, bx, by, tx, ty):\n",
        "    self.bb = [bx, by, tx, ty]\n",
        "\n",
        "  def get_bb(self):\n",
        "    return self.bb\n",
        "\n",
        "  #get the 0 index class id\n",
        "  def add_class(self, classname):\n",
        "    self.classnum = int(classname) - 1\n",
        "\n",
        "  def get_class(self):\n",
        "    return self.classnum\n",
        "\n",
        "  def get_txt_filename(self):\n",
        "    return os.path.splitext(self.filename)[0] + \".txt\"\n",
        "\n",
        "  #these we'll use to set whether they're part of the training or testing set\n",
        "  def set_type(self, t_or_t):\n",
        "    self.tt = t_or_t\n",
        "\n",
        "  def get_type(self):\n",
        "    return self.tt\n"
      ],
      "metadata": {
        "id": "XAL3nuF9jcxn"
      },
      "execution_count": null,
      "outputs": []
    },
    {
      "cell_type": "code",
      "source": [
        "#create yolo classes for each image\n",
        "YImages = []\n",
        "lines = []\n",
        "with open('/content/CUB_200_2011/images.txt', 'r') as f:\n",
        "  lines = f.readlines()\n",
        "\n",
        "for line in lines:\n",
        "  YImages.append(Yolo_Image(line.split()[1]))\n",
        "\n",
        "#now that we have them all in order, let's add the classes\n",
        "with open('/content/CUB_200_2011/image_class_labels.txt', 'r') as f:\n",
        "  lines = f.readlines()\n",
        "\n",
        "indexer = 0\n",
        "for line in lines:\n",
        "  YImages[indexer].add_class(line.split()[1])\n",
        "  indexer+=1\n",
        "\n",
        "#get bounding boxes\n",
        "with open('/content/CUB_200_2011/bounding_boxes.txt', 'r') as f:\n",
        "  lines = f.readlines()\n",
        "\n",
        "indexer = 0\n",
        "for line in lines:\n",
        "  parts = line.split()\n",
        "  YImages[indexer].add_bb(parts[1], parts[2], parts[3], parts[4])\n",
        "  indexer+=1\n",
        "\n",
        "#TODO\n",
        "#move images all to one folder\n",
        "#create the label files - done\n",
        "#get all the class names - done\n",
        "#create the yaml\n"
      ],
      "metadata": {
        "id": "mg-iIQQqm0g9"
      },
      "execution_count": null,
      "outputs": []
    },
    {
      "cell_type": "code",
      "source": [
        "#create label files\n",
        "\n",
        "#need to create this folder\n",
        "LOCATION_PREFIX = \"/content/CUB200_2011/labels/\"\n",
        "\n",
        "for yimg in YImages:\n",
        "  f = open(LOCATION_PREFIX + yimg.get_txt_filename(), 'x')\n",
        "  f.write(str(yimg.get_class()) + \" \")\n",
        "  for x in yimg.get_bb():\n",
        "    f.write(str(x) + \" \")\n",
        "\n",
        "  f.close()"
      ],
      "metadata": {
        "id": "WHXwDrkhrUl_"
      },
      "execution_count": null,
      "outputs": []
    },
    {
      "cell_type": "code",
      "source": [
        "#get all the class names\n",
        "lines = []\n",
        "with open('/content/CUB_200_2011/classes.txt','r') as f:\n",
        "  lines = f.readlines()\n",
        "\n",
        "classes = []\n",
        "for line in lines:\n",
        "  classes.append(line.split()[1])\n",
        "\n"
      ],
      "metadata": {
        "id": "TYSNpKKvt1X3"
      },
      "execution_count": null,
      "outputs": []
    },
    {
      "cell_type": "markdown",
      "source": [
        "## Prepare the data\n",
        "Grab mobilenet's preprocess function:"
      ],
      "metadata": {
        "id": "h9rv5mspgqTL"
      }
    },
    {
      "cell_type": "code",
      "source": [
        "preprocess_input = tf.keras.applications.mobilenet.preprocess_input"
      ],
      "metadata": {
        "id": "jRKlGR6vgo6g"
      },
      "execution_count": null,
      "outputs": []
    },
    {
      "cell_type": "markdown",
      "source": [
        ""
      ],
      "metadata": {
        "id": "OxKZskFGg5mw"
      }
    },
    {
      "cell_type": "markdown",
      "source": [
        "# Get YOLOv5 ver 6 \n",
        "??"
      ],
      "metadata": {
        "id": "ZG2dB_VMfzWW"
      }
    },
    {
      "cell_type": "code",
      "source": [
        "#clone YOLOv5 and \n",
        "!git clone https://github.com/ultralytics/yolov5  # clone repo\n",
        "%cd yolov5\n",
        "%pip install -qr requirements.txt\n",
        "import torch\n",
        "from IPython.display import Image, clear_output # for showing images"
      ],
      "metadata": {
        "id": "vuN_s7wUf4_V"
      },
      "execution_count": null,
      "outputs": []
    },
    {
      "cell_type": "markdown",
      "source": [
        "# Get YOLOv4 Tiny\n",
        "Getting a pretrained model will be half the battle. We'll start by grabbing a maintained (by RoboFlow supposedly and idk how long for) for of darknet. "
      ],
      "metadata": {
        "id": "ZORhfQnOdA5E"
      }
    },
    {
      "cell_type": "code",
      "source": [
        "%mkdir content\n",
        "%cd /content\n",
        "!git clone https://github.com/roboflow-ai/darknet.git"
      ],
      "metadata": {
        "id": "U-wEKC5pdJIK"
      },
      "execution_count": null,
      "outputs": []
    },
    {
      "cell_type": "code",
      "source": [
        "%cd /content/darknet"
      ],
      "metadata": {
        "id": "ZHjrk4xRdq_n"
      },
      "execution_count": null,
      "outputs": []
    },
    {
      "cell_type": "code",
      "source": [
        "# Straight from RoboFlow's Colab guide:\n",
        "os.environ['GPU_TYPE'] = str(os.popen('nvidia-smi --query-gpu=name --format=csv,noheader').read())\n",
        "\n",
        "def getGPUArch(argument):\n",
        "  try:\n",
        "    argument = argument.strip()\n",
        "    # All Colab GPUs\n",
        "    archTypes = {\n",
        "        \"Tesla V100-SXM2-16GB\": \"-gencode arch=compute_70,code=[sm_70,compute_70]\",\n",
        "        \"Tesla K80\": \"-gencode arch=compute_37,code=sm_37\",\n",
        "        \"Tesla T4\": \"-gencode arch=compute_75,code=[sm_75,compute_75]\",\n",
        "        \"Tesla P40\": \"-gencode arch=compute_61,code=sm_61\",\n",
        "        \"Tesla P4\": \"-gencode arch=compute_61,code=sm_61\",\n",
        "        \"Tesla P100-PCIE-16GB\": \"-gencode arch=compute_60,code=sm_60\"\n",
        "\n",
        "      }\n",
        "    return archTypes[argument]\n",
        "  except KeyError:\n",
        "    return \"GPU must be added to GPU Commands\"\n",
        "os.environ['ARCH_VALUE'] = getGPUArch(os.environ['GPU_TYPE'])\n",
        "\n",
        "print(\"GPU Type: \" + os.environ['GPU_TYPE'])\n",
        "print(\"ARCH Value: \" + os.environ['ARCH_VALUE'])"
      ],
      "metadata": {
        "id": "f4Dn6gkHd1gf"
      },
      "execution_count": null,
      "outputs": []
    },
    {
      "cell_type": "code",
      "source": [
        "# Continuing with the copying:\n",
        "#install environment from the Makefile\n",
        "#note if you are on Colab Pro this works on a P100 GPU\n",
        "#if you are on Colab free, you may need to change the Makefile for the K80 GPU\n",
        "#this goes for any GPU, you need to change the Makefile to inform darknet which GPU you are running on.\n",
        "!sed -i 's/OPENCV=0/OPENCV=1/g' Makefile\n",
        "!sed -i 's/GPU=0/GPU=1/g' Makefile\n",
        "!sed -i 's/CUDNN=0/CUDNN=1/g' Makefile\n",
        "!sed -i \"s/ARCH= -gencode arch=compute_60,code=sm_60/ARCH= ${ARCH_VALUE}/g\" Makefile\n",
        "!make"
      ],
      "metadata": {
        "id": "EBYFMrGqd-bm"
      },
      "execution_count": null,
      "outputs": []
    },
    {
      "cell_type": "code",
      "source": [
        "# Also copied and not so sure about how \"newly\" these are\n",
        "#download the newly released yolov4-tiny weights\n",
        "%cd /content/darknet\n",
        "!wget https://github.com/AlexeyAB/darknet/releases/download/darknet_yolo_v4_pre/yolov4-tiny.weights\n",
        "!wget https://github.com/AlexeyAB/darknet/releases/download/darknet_yolo_v4_pre/yolov4-tiny.conv.29"
      ],
      "metadata": {
        "id": "pvi6_73TeGJm"
      },
      "execution_count": null,
      "outputs": []
    }
  ]
}