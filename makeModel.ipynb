{
  "nbformat": 4,
  "nbformat_minor": 0,
  "metadata": {
    "colab": {
      "name": "makeModel.ipynb",
      "provenance": [],
      "authorship_tag": "ABX9TyOh/ir7C3vr+GkoxeRZSiff",
      "include_colab_link": true
    },
    "kernelspec": {
      "name": "python3",
      "display_name": "Python 3"
    },
    "language_info": {
      "name": "python"
    }
  },
  "cells": [
    {
      "cell_type": "markdown",
      "metadata": {
        "id": "view-in-github",
        "colab_type": "text"
      },
      "source": [
        "<a href=\"https://colab.research.google.com/github/asteinig4018/BirdWatcher/blob/master/makeModel.ipynb\" target=\"_parent\"><img src=\"https://colab.research.google.com/assets/colab-badge.svg\" alt=\"Open In Colab\"/></a>"
      ]
    },
    {
      "cell_type": "markdown",
      "source": [
        "# Make a Model\n",
        "The purpose of this notebook is to create a TFlite model for Raspberry Pi to detect birds (ideally in an image and not individually). I'll try to use the Caltech set. "
      ],
      "metadata": {
        "id": "nav6FeeZa8l5"
      }
    },
    {
      "cell_type": "code",
      "execution_count": null,
      "metadata": {
        "id": "sx8jm9jwZzU2"
      },
      "outputs": [],
      "source": [
        "#in progress: gather requirements\n",
        "import matplotlib.pyplot as plt\n",
        "import numpy as np\n",
        "import os\n",
        "import tensorflow as tf\n",
        "import PIL\n",
        "import PIL.Image\n",
        "from tensorflow.keras.preprocessing import image_dataset_from_directory\n",
        "import tensorflow_datasets as tfds"
      ]
    },
    {
      "cell_type": "code",
      "source": [
        "#idk check the version\n",
        "print(tf.__version__)"
      ],
      "metadata": {
        "id": "IHuJf9edcB2p"
      },
      "execution_count": null,
      "outputs": []
    },
    {
      "cell_type": "markdown",
      "source": [
        "# Build the Dataset"
      ],
      "metadata": {
        "id": "-BCQsbGlbnOs"
      }
    },
    {
      "cell_type": "markdown",
      "source": [
        "## Downloading the dataset:"
      ],
      "metadata": {
        "id": "9KFeFzYPbxvf"
      }
    },
    {
      "cell_type": "code",
      "source": [
        "bird_train_data = tfds.load('caltech_birds2011', split='train', shuffle_files=True)\n",
        "bird_test_data = tfds.load('caltech_birds2011', split='test', shuffle_files=False)"
      ],
      "metadata": {
        "id": "wQ0uIws4b1N5"
      },
      "execution_count": null,
      "outputs": []
    },
    {
      "cell_type": "code",
      "source": [
        "#physicall download\n",
        "!gdown https://drive.google.com/u/0/uc?id=1hbzc_P1FuxMkcabkgn9ZKinBwW683j45"
      ],
      "metadata": {
        "colab": {
          "base_uri": "https://localhost:8080/"
        },
        "id": "Fka4hYRQGYg9",
        "outputId": "cd8f29ac-e132-4ed8-b2f9-b081d569802d"
      },
      "execution_count": 10,
      "outputs": [
        {
          "output_type": "stream",
          "name": "stdout",
          "text": [
            "ERROR: unknown command \"intall\" - maybe you meant \"install\"\n",
            "Downloading...\n",
            "From: https://drive.google.com/u/0/uc?id=1hbzc_P1FuxMkcabkgn9ZKinBwW683j45\n",
            "To: /content/CUB_200_2011.tgz\n",
            "100% 1.15G/1.15G [00:13<00:00, 84.9MB/s]\n",
            "tar (child): v: Cannot open: No such file or directory\n",
            "tar (child): Error is not recoverable: exiting now\n",
            "tar: Child returned status 2\n",
            "tar: Error is not recoverable: exiting now\n"
          ]
        }
      ]
    },
    {
      "cell_type": "code",
      "source": [
        "!tar -xzf /content/CUB_200_2011.tgz"
      ],
      "metadata": {
        "id": "QKct65ZPJasb"
      },
      "execution_count": 12,
      "outputs": []
    },
    {
      "cell_type": "markdown",
      "source": [
        "## Prepare the data\n",
        "Grab mobilenet's preprocess function:"
      ],
      "metadata": {
        "id": "h9rv5mspgqTL"
      }
    },
    {
      "cell_type": "code",
      "source": [
        "preprocess_input = tf.keras.applications.mobilenet.preprocess_input"
      ],
      "metadata": {
        "id": "jRKlGR6vgo6g"
      },
      "execution_count": null,
      "outputs": []
    },
    {
      "cell_type": "markdown",
      "source": [
        ""
      ],
      "metadata": {
        "id": "OxKZskFGg5mw"
      }
    },
    {
      "cell_type": "markdown",
      "source": [
        "# Get YOLOv5 ver 6 \n",
        "??"
      ],
      "metadata": {
        "id": "ZG2dB_VMfzWW"
      }
    },
    {
      "cell_type": "code",
      "source": [
        "#clone YOLOv5 and \n",
        "!git clone https://github.com/ultralytics/yolov5  # clone repo\n",
        "%cd yolov5\n",
        "%pip install -qr requirements.txt\n",
        "import torch\n",
        "from IPython.display import Image, clear_output # for showing images"
      ],
      "metadata": {
        "id": "vuN_s7wUf4_V"
      },
      "execution_count": null,
      "outputs": []
    },
    {
      "cell_type": "markdown",
      "source": [
        "# Get YOLOv4 Tiny\n",
        "Getting a pretrained model will be half the battle. We'll start by grabbing a maintained (by RoboFlow supposedly and idk how long for) for of darknet. "
      ],
      "metadata": {
        "id": "ZORhfQnOdA5E"
      }
    },
    {
      "cell_type": "code",
      "source": [
        "%mkdir content\n",
        "%cd /content\n",
        "!git clone https://github.com/roboflow-ai/darknet.git"
      ],
      "metadata": {
        "id": "U-wEKC5pdJIK"
      },
      "execution_count": null,
      "outputs": []
    },
    {
      "cell_type": "code",
      "source": [
        "%cd /content/darknet"
      ],
      "metadata": {
        "id": "ZHjrk4xRdq_n"
      },
      "execution_count": null,
      "outputs": []
    },
    {
      "cell_type": "code",
      "source": [
        "# Straight from RoboFlow's Colab guide:\n",
        "os.environ['GPU_TYPE'] = str(os.popen('nvidia-smi --query-gpu=name --format=csv,noheader').read())\n",
        "\n",
        "def getGPUArch(argument):\n",
        "  try:\n",
        "    argument = argument.strip()\n",
        "    # All Colab GPUs\n",
        "    archTypes = {\n",
        "        \"Tesla V100-SXM2-16GB\": \"-gencode arch=compute_70,code=[sm_70,compute_70]\",\n",
        "        \"Tesla K80\": \"-gencode arch=compute_37,code=sm_37\",\n",
        "        \"Tesla T4\": \"-gencode arch=compute_75,code=[sm_75,compute_75]\",\n",
        "        \"Tesla P40\": \"-gencode arch=compute_61,code=sm_61\",\n",
        "        \"Tesla P4\": \"-gencode arch=compute_61,code=sm_61\",\n",
        "        \"Tesla P100-PCIE-16GB\": \"-gencode arch=compute_60,code=sm_60\"\n",
        "\n",
        "      }\n",
        "    return archTypes[argument]\n",
        "  except KeyError:\n",
        "    return \"GPU must be added to GPU Commands\"\n",
        "os.environ['ARCH_VALUE'] = getGPUArch(os.environ['GPU_TYPE'])\n",
        "\n",
        "print(\"GPU Type: \" + os.environ['GPU_TYPE'])\n",
        "print(\"ARCH Value: \" + os.environ['ARCH_VALUE'])"
      ],
      "metadata": {
        "id": "f4Dn6gkHd1gf"
      },
      "execution_count": null,
      "outputs": []
    },
    {
      "cell_type": "code",
      "source": [
        "# Continuing with the copying:\n",
        "#install environment from the Makefile\n",
        "#note if you are on Colab Pro this works on a P100 GPU\n",
        "#if you are on Colab free, you may need to change the Makefile for the K80 GPU\n",
        "#this goes for any GPU, you need to change the Makefile to inform darknet which GPU you are running on.\n",
        "!sed -i 's/OPENCV=0/OPENCV=1/g' Makefile\n",
        "!sed -i 's/GPU=0/GPU=1/g' Makefile\n",
        "!sed -i 's/CUDNN=0/CUDNN=1/g' Makefile\n",
        "!sed -i \"s/ARCH= -gencode arch=compute_60,code=sm_60/ARCH= ${ARCH_VALUE}/g\" Makefile\n",
        "!make"
      ],
      "metadata": {
        "id": "EBYFMrGqd-bm"
      },
      "execution_count": null,
      "outputs": []
    },
    {
      "cell_type": "code",
      "source": [
        "# Also copied and not so sure about how \"newly\" these are\n",
        "#download the newly released yolov4-tiny weights\n",
        "%cd /content/darknet\n",
        "!wget https://github.com/AlexeyAB/darknet/releases/download/darknet_yolo_v4_pre/yolov4-tiny.weights\n",
        "!wget https://github.com/AlexeyAB/darknet/releases/download/darknet_yolo_v4_pre/yolov4-tiny.conv.29"
      ],
      "metadata": {
        "id": "pvi6_73TeGJm"
      },
      "execution_count": null,
      "outputs": []
    }
  ]
}