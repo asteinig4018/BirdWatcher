{
  "nbformat": 4,
  "nbformat_minor": 0,
  "metadata": {
    "colab": {
      "name": "makeModel.ipynb",
      "provenance": [],
      "authorship_tag": "ABX9TyNdZNuhdOApjqXu51lOYpc7",
      "include_colab_link": true
    },
    "kernelspec": {
      "name": "python3",
      "display_name": "Python 3"
    },
    "language_info": {
      "name": "python"
    }
  },
  "cells": [
    {
      "cell_type": "markdown",
      "metadata": {
        "id": "view-in-github",
        "colab_type": "text"
      },
      "source": [
        "<a href=\"https://colab.research.google.com/github/asteinig4018/BirdWatcher/blob/master/makeModel.ipynb\" target=\"_parent\"><img src=\"https://colab.research.google.com/assets/colab-badge.svg\" alt=\"Open In Colab\"/></a>"
      ]
    },
    {
      "cell_type": "markdown",
      "source": [
        "# Make a Model\n",
        "The purpose of this notebook is to create a TFlite model for Raspberry Pi to detect birds (ideally in an image and not individually). I'll try to use the Caltech set. "
      ],
      "metadata": {
        "id": "nav6FeeZa8l5"
      }
    },
    {
      "cell_type": "code",
      "execution_count": null,
      "metadata": {
        "id": "sx8jm9jwZzU2"
      },
      "outputs": [],
      "source": [
        "#in progress: gather requirements\n",
        "import matplotlib.pyplot as plt\n",
        "import numpy as np\n",
        "import os\n",
        "import tensorflow as tf\n",
        "import PIL\n",
        "import PIL.Image\n",
        "from tensorflow.keras.preprocessing import image_dataset_from_directory\n",
        "import tensorflow_datasets as tfds"
      ]
    },
    {
      "cell_type": "code",
      "source": [
        "#idk check the version\n",
        "print(tf.__version__)"
      ],
      "metadata": {
        "id": "IHuJf9edcB2p"
      },
      "execution_count": null,
      "outputs": []
    },
    {
      "cell_type": "markdown",
      "source": [
        "# Build the Dataset"
      ],
      "metadata": {
        "id": "-BCQsbGlbnOs"
      }
    },
    {
      "cell_type": "markdown",
      "source": [
        "## Downloading the dataset:"
      ],
      "metadata": {
        "id": "9KFeFzYPbxvf"
      }
    },
    {
      "cell_type": "code",
      "source": [
        "bird_train_data = tfds.load('caltech_birds2011', split='train', shuffle_files=True)\n",
        "bird_test_data = tfds.load('caltech_birds2011', split='test', shuffle_files=False)"
      ],
      "metadata": {
        "id": "wQ0uIws4b1N5"
      },
      "execution_count": null,
      "outputs": []
    },
    {
      "cell_type": "markdown",
      "source": [
        "## Prepare the data\n",
        "Grab mobilenet's preprocess function:"
      ],
      "metadata": {
        "id": "h9rv5mspgqTL"
      }
    },
    {
      "cell_type": "code",
      "source": [
        "preprocess_input = tf.keras.applications.mobilenet.preprocess_input"
      ],
      "metadata": {
        "id": "jRKlGR6vgo6g"
      },
      "execution_count": null,
      "outputs": []
    },
    {
      "cell_type": "markdown",
      "source": [
        ""
      ],
      "metadata": {
        "id": "OxKZskFGg5mw"
      }
    }
  ]
}