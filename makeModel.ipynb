{
  "nbformat": 4,
  "nbformat_minor": 0,
  "metadata": {
    "colab": {
      "name": "makeModel.ipynb",
      "provenance": [],
      "authorship_tag": "ABX9TyOJaY5/mi3DwG3JNWz0Bxrw",
      "include_colab_link": true
    },
    "kernelspec": {
      "name": "python3",
      "display_name": "Python 3"
    },
    "language_info": {
      "name": "python"
    },
    "accelerator": "GPU"
  },
  "cells": [
    {
      "cell_type": "markdown",
      "metadata": {
        "id": "view-in-github",
        "colab_type": "text"
      },
      "source": [
        "<a href=\"https://colab.research.google.com/github/asteinig4018/BirdWatcher/blob/master/makeModel.ipynb\" target=\"_parent\"><img src=\"https://colab.research.google.com/assets/colab-badge.svg\" alt=\"Open In Colab\"/></a>"
      ]
    },
    {
      "cell_type": "markdown",
      "source": [
        "# Make a Model\n",
        "The purpose of this notebook is to create a TFlite model for Raspberry Pi to detect birds (ideally in an image and not individually). I'll try to use the Caltech set. "
      ],
      "metadata": {
        "id": "nav6FeeZa8l5"
      }
    },
    {
      "cell_type": "code",
      "execution_count": 1,
      "metadata": {
        "id": "sx8jm9jwZzU2"
      },
      "outputs": [],
      "source": [
        "#in progress: gather requirements\n",
        "import matplotlib.pyplot as plt\n",
        "import numpy as np\n",
        "import os\n",
        "import tensorflow as tf\n",
        "import PIL\n",
        "import PIL.Image\n",
        "from tensorflow.keras.preprocessing import image_dataset_from_directory\n",
        "import tensorflow_datasets as tfds"
      ]
    },
    {
      "cell_type": "code",
      "source": [
        "#idk check the version\n",
        "print(tf.__version__)"
      ],
      "metadata": {
        "colab": {
          "base_uri": "https://localhost:8080/"
        },
        "id": "IHuJf9edcB2p",
        "outputId": "21c7314b-2983-4c20-d8b2-224d1d0661a9"
      },
      "execution_count": 2,
      "outputs": [
        {
          "output_type": "stream",
          "name": "stdout",
          "text": [
            "2.7.0\n"
          ]
        }
      ]
    },
    {
      "cell_type": "markdown",
      "source": [
        "# Build the Dataset"
      ],
      "metadata": {
        "id": "-BCQsbGlbnOs"
      }
    },
    {
      "cell_type": "markdown",
      "source": [
        "## Downloading the dataset:"
      ],
      "metadata": {
        "id": "9KFeFzYPbxvf"
      }
    },
    {
      "cell_type": "code",
      "source": [
        "#easy way but not compatible with yolo as far as I can tell\n",
        "# bird_train_data = tfds.load('caltech_birds2011', split='train', shuffle_files=True)\n",
        "# bird_test_data = tfds.load('caltech_birds2011', split='test', shuffle_files=False)"
      ],
      "metadata": {
        "id": "wQ0uIws4b1N5"
      },
      "execution_count": 3,
      "outputs": []
    },
    {
      "cell_type": "code",
      "source": [
        "#physicall download\n",
        "!gdown https://drive.google.com/u/0/uc?id=1hbzc_P1FuxMkcabkgn9ZKinBwW683j45"
      ],
      "metadata": {
        "colab": {
          "base_uri": "https://localhost:8080/"
        },
        "id": "Fka4hYRQGYg9",
        "outputId": "1629bd76-34a8-4005-afbc-d24b82c49231"
      },
      "execution_count": 3,
      "outputs": [
        {
          "output_type": "stream",
          "name": "stdout",
          "text": [
            "Downloading...\n",
            "From: https://drive.google.com/u/0/uc?id=1hbzc_P1FuxMkcabkgn9ZKinBwW683j45\n",
            "To: /content/CUB_200_2011.tgz\n",
            "100% 1.15G/1.15G [00:07<00:00, 152MB/s]\n"
          ]
        }
      ]
    },
    {
      "cell_type": "code",
      "source": [
        "!tar -xzf /content/CUB_200_2011.tgz"
      ],
      "metadata": {
        "id": "QKct65ZPJasb"
      },
      "execution_count": 4,
      "outputs": []
    },
    {
      "cell_type": "code",
      "source": [
        "#add some more image manipulation packages\n",
        "!pip install imagesize\n",
        "import imagesize"
      ],
      "metadata": {
        "colab": {
          "base_uri": "https://localhost:8080/"
        },
        "id": "16481lzKDtUE",
        "outputId": "c2db4521-d322-4672-f3cf-c20acffc4487"
      },
      "execution_count": 5,
      "outputs": [
        {
          "output_type": "stream",
          "name": "stdout",
          "text": [
            "Requirement already satisfied: imagesize in /usr/local/lib/python3.7/dist-packages (1.3.0)\n"
          ]
        }
      ]
    },
    {
      "cell_type": "code",
      "source": [
        "#use a class to track data so we can create yolo specific data structures\n",
        "class Yolo_Image:\n",
        "\n",
        "  def __init__(self, filename, subdir):\n",
        "    self.bb = list()\n",
        "    self.filename = filename\n",
        "    self.subdir = subdir\n",
        "    #print(self.filename)\n",
        "    self.set_img_dim()\n",
        "\n",
        "  def add_bb(self, bx, by, w, h):\n",
        "    self.bb = [float(bx)/self.width, float(by)/self.height, \n",
        "               float(w)/self.width, float(h)/self.height]\n",
        "\n",
        "  def get_bb(self):\n",
        "    return self.bb\n",
        "\n",
        "  #get the 0 index class id\n",
        "  def add_class(self, classname):\n",
        "    self.classnum = int(classname) - 1\n",
        "\n",
        "  def get_class(self):\n",
        "    return self.classnum\n",
        "\n",
        "  def get_txt_filename(self):\n",
        "    return os.path.splitext(self.filename)[0] + \".txt\"\n",
        "\n",
        "  def get_jpg_filename(self):\n",
        "    return self.filename\n",
        "\n",
        "  #these we'll use to set whether they're part of the training or testing set\n",
        "  def set_test_train(self, t_or_t):\n",
        "    self.tetr = int(t_or_t)\n",
        "    #print(self.tetr)\n",
        "\n",
        "  def get_test_train(self):\n",
        "    return self.tetr\n",
        "\n",
        "  def set_img_dim(self):\n",
        "    self.width, self.height = imagesize.get(\"/content/CUB_200_2011/images/\" + self.subdir + \"/\" + self.filename)\n",
        "\n"
      ],
      "metadata": {
        "id": "XAL3nuF9jcxn"
      },
      "execution_count": 6,
      "outputs": []
    },
    {
      "cell_type": "code",
      "source": [
        "#create yolo classes for each image\n",
        "YImages = []\n",
        "lines = []\n",
        "with open('/content/CUB_200_2011/images.txt', 'r') as f:\n",
        "  lines = f.readlines()\n",
        "\n",
        "for line in lines:\n",
        "  YImages.append(Yolo_Image((line.split()[1]).split('/')[1], \n",
        "                 (line.split()[1]).split('/')[0]))\n",
        "\n",
        "#now that we have them all in order, let's add the classes\n",
        "with open('/content/CUB_200_2011/image_class_labels.txt', 'r') as f:\n",
        "  lines = f.readlines()\n",
        "\n",
        "indexer = 0\n",
        "for line in lines:\n",
        "  YImages[indexer].add_class(line.split()[1])\n",
        "  indexer+=1\n",
        "\n",
        "#get bounding boxes\n",
        "with open('/content/CUB_200_2011/bounding_boxes.txt', 'r') as f:\n",
        "  lines = f.readlines()\n",
        "\n",
        "indexer = 0\n",
        "for line in lines:\n",
        "  parts = line.split()\n",
        "  YImages[indexer].add_bb(parts[1], parts[2], parts[3], parts[4])\n",
        "  indexer+=1\n",
        "\n",
        "#get whether images should be in test or train dataset\n",
        "with open('/content/CUB_200_2011/train_test_split.txt', 'r') as f:\n",
        "  lines = f.readlines()\n",
        "\n",
        "indexer = 0\n",
        "for line in lines:\n",
        "  YImages[indexer].set_test_train(line.split()[1])\n",
        "  indexer += 1\n",
        "\n"
      ],
      "metadata": {
        "id": "mg-iIQQqm0g9"
      },
      "execution_count": 7,
      "outputs": []
    },
    {
      "cell_type": "code",
      "source": [
        "#let's organize the pictures and labels\n",
        "!mkdir /content/dataset-train\n",
        "!mkdir /content/dataset-test\n",
        "!mkdir /content/dataset-train/images\n",
        "!mkdir /content/dataset-train/labels\n",
        "!mkdir /content/dataset-test/images\n",
        "!mkdir /content/dataset-test/labels"
      ],
      "metadata": {
        "id": "bhGecara6M42",
        "colab": {
          "base_uri": "https://localhost:8080/"
        },
        "outputId": "9d620d97-4543-49f1-ac4f-a2133df5ccdf"
      },
      "execution_count": 8,
      "outputs": [
        {
          "output_type": "stream",
          "name": "stdout",
          "text": [
            "mkdir: cannot create directory ‘/content/dataset-train’: File exists\n",
            "mkdir: cannot create directory ‘/content/dataset-test’: File exists\n",
            "mkdir: cannot create directory ‘/content/dataset-train/images’: File exists\n",
            "mkdir: cannot create directory ‘/content/dataset-train/labels’: File exists\n",
            "mkdir: cannot create directory ‘/content/dataset-test/images’: File exists\n",
            "mkdir: cannot create directory ‘/content/dataset-test/labels’: File exists\n"
          ]
        }
      ]
    },
    {
      "cell_type": "code",
      "source": [
        "!mv /content/CUB_200_2011/images/**/*.jpg /content/dataset-train/images/"
      ],
      "metadata": {
        "id": "ido5mPGp6i8t"
      },
      "execution_count": 9,
      "outputs": []
    },
    {
      "cell_type": "code",
      "source": [
        "#create label files and move testing data\n",
        "import shutil\n",
        "\n",
        "#need to create this folder\n",
        "LOCATION_PREFIX_TRAIN_L = \"/content/dataset-train/labels/\"\n",
        "LOCATION_PREFIX_TEST_L = \"/content/dataset-test/labels/\"\n",
        "\n",
        "LOCATION_PREFIX_TRAIN_I = \"/content/dataset-train/images/\"\n",
        "LOCATION_PREFIX_TEST_I = \"/content/dataset-test/images/\"\n",
        "\n",
        "for yimg in YImages:\n",
        "  f = None\n",
        "  if yimg.get_test_train() == 1:\n",
        "    f = open(LOCATION_PREFIX_TRAIN_L + yimg.get_txt_filename(), 'w')\n",
        "  else:\n",
        "    #it is a testing image\n",
        "    f = open(LOCATION_PREFIX_TEST_L + yimg.get_txt_filename(), 'w')\n",
        "    #and let's move the corresponding image\n",
        "    shutil.move(LOCATION_PREFIX_TRAIN_I + yimg.get_jpg_filename(), \n",
        "                LOCATION_PREFIX_TEST_I + yimg.get_jpg_filename())\n",
        "    \n",
        "  f.write(str(yimg.get_class()) + \" \")\n",
        "  for x in yimg.get_bb():\n",
        "    f.write(str(x) + \" \")\n",
        "\n",
        "  f.close()"
      ],
      "metadata": {
        "id": "WHXwDrkhrUl_"
      },
      "execution_count": 10,
      "outputs": []
    },
    {
      "cell_type": "code",
      "source": [
        "#get all the class names\n",
        "lines = []\n",
        "with open('/content/CUB_200_2011/classes.txt','r') as f:\n",
        "  lines = f.readlines()\n",
        "\n",
        "classes = []\n",
        "for line in lines:\n",
        "  classes.append(line.split()[1])\n",
        "\n"
      ],
      "metadata": {
        "id": "TYSNpKKvt1X3"
      },
      "execution_count": 11,
      "outputs": []
    },
    {
      "cell_type": "code",
      "source": [
        "#make the yaml\n",
        "f = open('/content/dataset.yaml', 'w')\n",
        "f.write(\"train: /content/dataset-train/images\\n\")\n",
        "f.write(\"val: /content/dataset-train/images\\n\")\n",
        "f.write(\"test: /content/dataset-test/images\\n\\n\")\n",
        "f.write(\"nc: \"+ str(len(classes)) + \"\\n\\n\")\n",
        "f.write(\"names: \" + str(classes) + \"\\n\")\n",
        "f.close()"
      ],
      "metadata": {
        "id": "zPIBVtbNBHrO"
      },
      "execution_count": 12,
      "outputs": []
    },
    {
      "cell_type": "markdown",
      "source": [
        "# Get YOLOv5 ver 6 "
      ],
      "metadata": {
        "id": "ZG2dB_VMfzWW"
      }
    },
    {
      "cell_type": "code",
      "source": [
        "#clone YOLOv5 and \n",
        "!git clone https://github.com/ultralytics/yolov5  # clone repo\n",
        "%cd yolov5\n",
        "%pip install -qr requirements.txt\n",
        "import torch\n",
        "from IPython.display import Image, clear_output # for showing images"
      ],
      "metadata": {
        "id": "vuN_s7wUf4_V",
        "colab": {
          "base_uri": "https://localhost:8080/"
        },
        "outputId": "a6e1a4c3-198e-4937-bf73-ce4dca714d1b"
      },
      "execution_count": 13,
      "outputs": [
        {
          "output_type": "stream",
          "name": "stdout",
          "text": [
            "Cloning into 'yolov5'...\n",
            "remote: Enumerating objects: 10671, done.\u001b[K\n",
            "remote: Counting objects: 100% (22/22), done.\u001b[K\n",
            "remote: Compressing objects: 100% (19/19), done.\u001b[K\n",
            "remote: Total 10671 (delta 7), reused 10 (delta 3), pack-reused 10649\u001b[K\n",
            "Receiving objects: 100% (10671/10671), 10.88 MiB | 10.95 MiB/s, done.\n",
            "Resolving deltas: 100% (7361/7361), done.\n",
            "/content/yolov5\n",
            "\u001b[K     |████████████████████████████████| 596 kB 4.6 MB/s \n",
            "\u001b[?25h"
          ]
        }
      ]
    },
    {
      "cell_type": "markdown",
      "source": [
        "## Actually do the training:\n",
        "\n",
        "\n",
        "*   img = set our max image size which works even though we have variable image sizes (the unused part of the square is padded with gray\n",
        "*   batch = this depends on the gpu/architecture/how we want to train it\n",
        "*   epochs = how long we want to train it - longer is better up to a point\n",
        "*   data = point to the yaml above\n",
        "*   weights = which weights we want to start with\n",
        "*   cache = we can turn this on so it is faster but it will also take more RAM\n",
        "\n"
      ],
      "metadata": {
        "id": "4IFFB70_Gv5b"
      }
    },
    {
      "cell_type": "code",
      "source": [
        "\n",
        "!python train.py --img 640 --batch 16 --epochs 25 --data /content/dataset.yaml --weights yolov5n.pt"
      ],
      "metadata": {
        "id": "dTwUMJthGzlr",
        "colab": {
          "base_uri": "https://localhost:8080/"
        },
        "outputId": "5b565cfc-ece0-4796-858d-1a8b000792e8"
      },
      "execution_count": 14,
      "outputs": [
        {
          "output_type": "stream",
          "name": "stdout",
          "text": [
            "Downloading https://ultralytics.com/assets/Arial.ttf to /root/.config/Ultralytics/Arial.ttf...\n",
            "\u001b[34m\u001b[1mtrain: \u001b[0mweights=yolov5n.pt, cfg=, data=/content/dataset.yaml, hyp=data/hyps/hyp.scratch.yaml, epochs=25, batch_size=16, imgsz=640, rect=False, resume=False, nosave=False, noval=False, noautoanchor=False, evolve=None, bucket=, cache=None, image_weights=False, device=, multi_scale=False, single_cls=False, optimizer=SGD, sync_bn=False, workers=8, project=runs/train, name=exp, exist_ok=False, quad=False, linear_lr=False, label_smoothing=0.0, patience=100, freeze=[0], save_period=-1, local_rank=-1, entity=None, upload_dataset=False, bbox_interval=-1, artifact_alias=latest\n",
            "\u001b[34m\u001b[1mgithub: \u001b[0mup to date with https://github.com/ultralytics/yolov5 ✅\n",
            "YOLOv5 🚀 v6.0-212-gff8646c torch 1.10.0+cu111 CPU\n",
            "\n",
            "\u001b[34m\u001b[1mhyperparameters: \u001b[0mlr0=0.01, lrf=0.1, momentum=0.937, weight_decay=0.0005, warmup_epochs=3.0, warmup_momentum=0.8, warmup_bias_lr=0.1, box=0.05, cls=0.5, cls_pw=1.0, obj=1.0, obj_pw=1.0, iou_t=0.2, anchor_t=4.0, fl_gamma=0.0, hsv_h=0.015, hsv_s=0.7, hsv_v=0.4, degrees=0.0, translate=0.1, scale=0.5, shear=0.0, perspective=0.0, flipud=0.0, fliplr=0.5, mosaic=1.0, mixup=0.0, copy_paste=0.0\n",
            "\u001b[34m\u001b[1mWeights & Biases: \u001b[0mrun 'pip install wandb' to automatically track and visualize YOLOv5 🚀 runs (RECOMMENDED)\n",
            "\u001b[34m\u001b[1mTensorBoard: \u001b[0mStart with 'tensorboard --logdir runs/train', view at http://localhost:6006/\n",
            "Downloading https://github.com/ultralytics/yolov5/releases/download/v6.0/yolov5n.pt to yolov5n.pt...\n",
            "100% 3.77M/3.77M [00:00<00:00, 46.8MB/s]\n",
            "\n",
            "Overriding model.yaml nc=80 with nc=200\n",
            "\n",
            "                 from  n    params  module                                  arguments                     \n",
            "  0                -1  1      1760  models.common.Conv                      [3, 16, 6, 2, 2]              \n",
            "  1                -1  1      4672  models.common.Conv                      [16, 32, 3, 2]                \n",
            "  2                -1  1      4800  models.common.C3                        [32, 32, 1]                   \n",
            "  3                -1  1     18560  models.common.Conv                      [32, 64, 3, 2]                \n",
            "  4                -1  2     29184  models.common.C3                        [64, 64, 2]                   \n",
            "  5                -1  1     73984  models.common.Conv                      [64, 128, 3, 2]               \n",
            "  6                -1  3    156928  models.common.C3                        [128, 128, 3]                 \n",
            "  7                -1  1    295424  models.common.Conv                      [128, 256, 3, 2]              \n",
            "  8                -1  1    296448  models.common.C3                        [256, 256, 1]                 \n",
            "  9                -1  1    164608  models.common.SPPF                      [256, 256, 5]                 \n",
            " 10                -1  1     33024  models.common.Conv                      [256, 128, 1, 1]              \n",
            " 11                -1  1         0  torch.nn.modules.upsampling.Upsample    [None, 2, 'nearest']          \n",
            " 12           [-1, 6]  1         0  models.common.Concat                    [1]                           \n",
            " 13                -1  1     90880  models.common.C3                        [256, 128, 1, False]          \n",
            " 14                -1  1      8320  models.common.Conv                      [128, 64, 1, 1]               \n",
            " 15                -1  1         0  torch.nn.modules.upsampling.Upsample    [None, 2, 'nearest']          \n",
            " 16           [-1, 4]  1         0  models.common.Concat                    [1]                           \n",
            " 17                -1  1     22912  models.common.C3                        [128, 64, 1, False]           \n",
            " 18                -1  1     36992  models.common.Conv                      [64, 64, 3, 2]                \n",
            " 19          [-1, 14]  1         0  models.common.Concat                    [1]                           \n",
            " 20                -1  1     74496  models.common.C3                        [128, 128, 1, False]          \n",
            " 21                -1  1    147712  models.common.Conv                      [128, 128, 3, 2]              \n",
            " 22          [-1, 10]  1         0  models.common.Concat                    [1]                           \n",
            " 23                -1  1    296448  models.common.C3                        [256, 256, 1, False]          \n",
            " 24      [17, 20, 23]  1    277365  models.yolo.Detect                      [200, [[10, 13, 16, 30, 33, 23], [30, 61, 62, 45, 59, 119], [116, 90, 156, 198, 373, 326]], [64, 128, 256]]\n",
            "Model Summary: 270 layers, 2034517 parameters, 2034517 gradients, 5.0 GFLOPs\n",
            "\n",
            "Transferred 343/349 items from yolov5n.pt\n",
            "Scaled weight_decay = 0.0005\n",
            "\u001b[34m\u001b[1moptimizer:\u001b[0m SGD with parameter groups 57 weight (no decay), 60 weight, 60 bias\n",
            "\u001b[34m\u001b[1malbumentations: \u001b[0mversion 1.0.3 required by YOLOv5, but version 0.1.12 is currently installed\n",
            "\u001b[34m\u001b[1mtrain: \u001b[0mScanning '/content/dataset-train/labels' images and labels...5994 found, 0 missing, 0 empty, 0 corrupt: 100% 5994/5994 [00:05<00:00, 1118.73it/s]\n",
            "\u001b[34m\u001b[1mtrain: \u001b[0mNew cache created: /content/dataset-train/labels.cache\n",
            "\u001b[34m\u001b[1mval: \u001b[0mScanning '/content/dataset-train/labels.cache' images and labels... 5994 found, 0 missing, 0 empty, 0 corrupt: 100% 5994/5994 [00:00<?, ?it/s]\n",
            "Plotting labels to runs/train/exp/labels.jpg... \n",
            "\n",
            "\u001b[34m\u001b[1mAutoAnchor: \u001b[0m2.89 anchors/target, 1.000 Best Possible Recall (BPR). Current anchors are a good fit to dataset ✅\n",
            "Image sizes 640 train, 640 val\n",
            "Using 2 dataloader workers\n",
            "Logging results to \u001b[1mruns/train/exp\u001b[0m\n",
            "Starting training for 25 epochs...\n",
            "\n",
            "     Epoch   gpu_mem       box       obj       cls    labels  img_size\n",
            "  0% 0/375 [00:00<?, ?it/s]/usr/local/lib/python3.7/dist-packages/torch/autocast_mode.py:141: UserWarning: User provided device_type of 'cuda', but CUDA is not available. Disabling\n",
            "  warnings.warn('User provided device_type of \\'cuda\\', but CUDA is not available. Disabling')\n",
            "      0/24        0G    0.1221   0.03469    0.1395        30       640:   0% 1/375 [00:23<2:28:28, 23.82s/it]/usr/local/lib/python3.7/dist-packages/torch/autocast_mode.py:141: UserWarning: User provided device_type of 'cuda', but CUDA is not available. Disabling\n",
            "  warnings.warn('User provided device_type of \\'cuda\\', but CUDA is not available. Disabling')\n",
            "      0/24        0G   0.09979   0.03543     0.111        40       640:   1% 2/375 [00:36<1:49:07, 17.55s/it]/usr/local/lib/python3.7/dist-packages/torch/autocast_mode.py:141: UserWarning: User provided device_type of 'cuda', but CUDA is not available. Disabling\n",
            "  warnings.warn('User provided device_type of \\'cuda\\', but CUDA is not available. Disabling')\n",
            "      0/24        0G     0.106   0.03513     0.119        31       640:   1% 3/375 [00:49<1:33:44, 15.12s/it]/usr/local/lib/python3.7/dist-packages/torch/autocast_mode.py:141: UserWarning: User provided device_type of 'cuda', but CUDA is not available. Disabling\n",
            "  warnings.warn('User provided device_type of \\'cuda\\', but CUDA is not available. Disabling')\n",
            "      0/24        0G    0.1113   0.03503    0.1295        34       640:   1% 4/375 [01:01<1:26:06, 13.93s/it]/usr/local/lib/python3.7/dist-packages/torch/autocast_mode.py:141: UserWarning: User provided device_type of 'cuda', but CUDA is not available. Disabling\n",
            "  warnings.warn('User provided device_type of \\'cuda\\', but CUDA is not available. Disabling')\n",
            "      0/24        0G    0.1038   0.03452    0.1202        31       640:   1% 5/375 [01:12<1:19:57, 12.97s/it]/usr/local/lib/python3.7/dist-packages/torch/autocast_mode.py:141: UserWarning: User provided device_type of 'cuda', but CUDA is not available. Disabling\n",
            "  warnings.warn('User provided device_type of \\'cuda\\', but CUDA is not available. Disabling')\n",
            "      0/24        0G    0.1038   0.03452    0.1202        31       640:   1% 5/375 [01:24<1:43:55, 16.85s/it]\n",
            "Traceback (most recent call last):\n",
            "  File \"train.py\", line 638, in <module>\n",
            "    main(opt)\n",
            "  File \"train.py\", line 535, in main\n",
            "    train(opt.hyp, opt, device, callbacks)\n",
            "  File \"train.py\", line 337, in train\n",
            "    scaler.scale(loss).backward()\n",
            "  File \"/usr/local/lib/python3.7/dist-packages/torch/_tensor.py\", line 307, in backward\n",
            "    torch.autograd.backward(self, gradient, retain_graph, create_graph, inputs=inputs)\n",
            "  File \"/usr/local/lib/python3.7/dist-packages/torch/autograd/__init__.py\", line 156, in backward\n",
            "    allow_unreachable=True, accumulate_grad=True)  # allow_unreachable flag\n",
            "KeyboardInterrupt\n"
          ]
        }
      ]
    },
    {
      "cell_type": "code",
      "source": [
        "# Start tensorboard\n",
        "# Launch after you have started training\n",
        "# logs save in the folder \"runs\"\n",
        "%load_ext tensorboard\n",
        "%tensorboard --logdir runs"
      ],
      "metadata": {
        "id": "PXokNSoXIQoD"
      },
      "execution_count": null,
      "outputs": []
    },
    {
      "cell_type": "markdown",
      "source": [
        "## Test\n",
        "Use our test dataset for this"
      ],
      "metadata": {
        "id": "LpH__rMPJi1X"
      }
    },
    {
      "cell_type": "code",
      "source": [
        "!python test.py --data /content/daatset.yaml --weights TBD.pt"
      ],
      "metadata": {
        "id": "lj5398sGJ2WU"
      },
      "execution_count": null,
      "outputs": []
    },
    {
      "cell_type": "markdown",
      "source": [
        "# Export \n",
        "Export the weights and network so we can use it on another device."
      ],
      "metadata": {
        "id": "2L5QpzirKAsO"
      }
    },
    {
      "cell_type": "code",
      "source": [
        "!python export.py --weights TBD.pt --include tflight onnx --simplify"
      ],
      "metadata": {
        "id": "6rYadcxDKoYj"
      },
      "execution_count": null,
      "outputs": []
    }
  ]
}